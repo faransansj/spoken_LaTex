{
 "cells": [
  {
   "cell_type": "code",
   "execution_count": 3,
   "metadata": {},
   "outputs": [
    {
     "name": "stdout",
     "output_type": "stream",
     "text": [
      "                                             context_before  \\\n",
      "0         The horizontal axis represents the exponent range   \n",
      "1                                                      Here   \n",
      "2                                      The agent 's actions   \n",
      "3         are modeled by a stochastic control process wi...   \n",
      "4                                                      Here   \n",
      "...                                                     ...   \n",
      "12052503  The coordinates of a projected demeaned data p...   \n",
      "12052504                               Let 's now study the   \n",
      "12052505                                 fitting the points   \n",
      "12052506                                       Suppose that   \n",
      "12052507                                            What is   \n",
      "\n",
      "                                                   equation  \\\n",
      "0                                         $ \\in [ 3 , 7 ] $   \n",
      "1                                                 $ d\\eta $   \n",
      "2                                               $ a ( t ) $   \n",
      "3                                            $ \\sigma^2_t $   \n",
      "4                                               $ \\deltat $   \n",
      "...                                                     ...   \n",
      "12052503  $ \\Gamma_ { k } =\\Sigma_ { k } V_ { k } ^ { T } $   \n",
      "12052504                                     $ 48^ { th } $   \n",
      "12052505  $ $ ( 0,1 ) , ( 1,0 ) , ( 2,1.5 ) , ( 3,4 ) , ...   \n",
      "12052506  $ \\mathbf { u } =\\left [ \\begin { array } { c ...   \n",
      "12052507  $ \\operatorname { rank } ( \\mathbf { u } \\ \\ma...   \n",
      "\n",
      "                                              context_after  eq_type  \\\n",
      "0         . We selected those categorical colors from Co...        0   \n",
      "1         denotes the system noise , modeled as a Wiener...        0   \n",
      "2         are modeled by a stochastic control process wi...        0   \n",
      "3         controlled by the agent and with a mean of zer...        0   \n",
      "4         denotes the physical time step , and we adopte...        0   \n",
      "...                                                     ...      ...   \n",
      "12052503                                                           0   \n",
      "12052504       case , which is represented by the column of        0   \n",
      "12052505                                                  1        1   \n",
      "12052506                                                and        0   \n",
      "12052507           and what is a basis for its column space        0   \n",
      "\n",
      "                          paper_number paper_type  equation_len  \n",
      "0                           2301.00002  arxiv2023            17  \n",
      "1                           2301.00005  arxiv2023             9  \n",
      "2                           2301.00005  arxiv2023            11  \n",
      "3                           2301.00005  arxiv2023            14  \n",
      "4                           2301.00005  arxiv2023            11  \n",
      "...                                ...        ...           ...  \n",
      "12052503  Understanding Linear Algebra   textbook            49  \n",
      "12052504  Understanding Linear Algebra   textbook            14  \n",
      "12052505  Understanding Linear Algebra   textbook            59  \n",
      "12052506  Understanding Linear Algebra   textbook            79  \n",
      "12052507  Understanding Linear Algebra   textbook            68  \n",
      "\n",
      "[12052508 rows x 7 columns]\n"
     ]
    }
   ],
   "source": [
    "import pandas as pd\n",
    "\n",
    "# Parquet 파일 경로를 지정합니다.\n",
    "file_path = r'C:\\github\\spoken_LaTex\\Data\\df_not_len_5_cleaned_unique_eq.parquet'\n",
    "\n",
    "# Parquet 파일을 pandas DataFrame으로 읽습니다.\n",
    "df = pd.read_parquet(file_path)\n",
    "\n",
    "# DataFrame의 내용을 출력합니다.\n",
    "print(df)\n"
   ]
  },
  {
   "cell_type": "code",
   "execution_count": 1,
   "metadata": {},
   "outputs": [],
   "source": [
    "# parquet file 로드해서 equation 항목 파일만 가져와 리스트로 저장\n"
   ]
  },
  {
   "cell_type": "code",
   "execution_count": null,
   "metadata": {},
   "outputs": [],
   "source": [
    "import re\n",
    "import json\n",
    "\n",
    "def load_patterns(filename):\n",
    "    with open(filename, 'r', encoding='utf-8') as file:\n",
    "        return json.load(file)\n",
    "\n",
    "def apply_patterns(latex_str, patterns):\n",
    "    for pattern in patterns:\n",
    "        regex_pattern = pattern['pattern']\n",
    "        replacement = pattern['replacement']\n",
    "        latex_str = re.sub(regex_pattern, lambda m: eval(f'f\"{replacement}\"'), latex_str)\n",
    "    return latex_str\n",
    "\n",
    "def latex_to_english(latex_str, patterns):\n",
    "    latex_str = latex_str.replace(r'\\frac', 'frac')\n",
    "    return apply_patterns(latex_str, patterns)\n",
    "\n",
    "# JSON 파일에서 패턴 로드\n",
    "patterns = load_patterns('patterns.json')\n",
    "\n",
    "# 사용자로부터 LaTeX 수식 입력받기\n",
    "latex_str = input(\"Enter a LaTeX string: \")\n",
    "\n",
    "try:\n",
    "    # 변환된 영어 발음 출력\n",
    "    english_str = latex_to_english(latex_str, patterns)\n",
    "    print(\"English pronunciation:\", english_str)\n",
    "except Exception as e:\n",
    "    print(\"Error processing LaTeX string:\", str(e))\n",
    "    print(\"Original LaTeX string:\", latex_str)\n"
   ]
  }
 ],
 "metadata": {
  "kernelspec": {
   "display_name": "Python 3",
   "language": "python",
   "name": "python3"
  },
  "language_info": {
   "codemirror_mode": {
    "name": "ipython",
    "version": 3
   },
   "file_extension": ".py",
   "mimetype": "text/x-python",
   "name": "python",
   "nbconvert_exporter": "python",
   "pygments_lexer": "ipython3",
   "version": "3.11.1"
  }
 },
 "nbformat": 4,
 "nbformat_minor": 2
}
