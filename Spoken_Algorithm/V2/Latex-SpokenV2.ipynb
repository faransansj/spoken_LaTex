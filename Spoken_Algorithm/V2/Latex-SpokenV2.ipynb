{
 "cells": [
  {
   "cell_type": "code",
   "execution_count": 5,
   "metadata": {},
   "outputs": [
    {
     "name": "stdout",
     "output_type": "stream",
     "text": [
      "English pronunciation: sine of  {theta}  equals  a  plus  b\n"
     ]
    }
   ],
   "source": [
    "import re\n",
    "\n",
    "def latex_to_english(latex_str):\n",
    "    # 기본적인 LaTeX 수식 패턴을 정의합니다.\n",
    "    latex_str = latex_str.replace(r'\\frac', 'frac')\n",
    "    patterns = [\n",
    "        (r'frac{(.+?)}{(.+?)}', lambda m: f\"{m.group(1)} over {m.group(2)}\"),\n",
    "        (r'\\\\sqrt{(.+?)}', lambda m: f\"sqrt of {m.group(1)}\"),\n",
    "        (r'\\\\left\\((.+?)\\\\right\\)', lambda m: f\"left parenthesis {m.group(1)} right parenthesis\"),\n",
    "        (r'\\\\left\\[(.+?)\\\\right\\]', lambda m: f\"left bracket {m.group(1)} right bracket\"),\n",
    "        (r'\\\\left\\\\{(.+?)}\\\\right\\\\}', lambda m: f\"left brace {m.group(1)} right brace\"),\n",
    "        (r'\\\\left\\|(.+?)\\\\right\\|', lambda m: f\"left absolute value {m.group(1)} right absolute value\"),\n",
    "        (r'\\\\sum_{(.+?)}\\^{(.+?)}', lambda m: f\"sum from {m.group(1)} to {m.group(2)}\"),\n",
    "        (r'\\\\int_{(.+?)}\\^{(.+?)}', lambda m: f\"integral from {m.group(1)} to {m.group(2)}\"),\n",
    "        (r'_(.+?)', lambda m: f\" subscript {m.group(1)}\"),\n",
    "        (r'\\^(.+?)', lambda m: f\" to the power of {m.group(1)}\"),\n",
    "        (r'\\\\cdot', lambda m: \" times \"),\n",
    "        (r'\\\\times', lambda m: \" times \"),\n",
    "        (r'\\\\div', lambda m: \" divided by \"),\n",
    "        (r'\\+', lambda m: \" plus \"),\n",
    "        (r'-', lambda m: \" minus \"),\n",
    "        (r'=', lambda m: \" equals \"),\n",
    "        (r'\\\\neq', lambda m: \" not equal to \"),\n",
    "        (r'\\\\leq', lambda m: \" less than or equal to \"),\n",
    "        (r'\\\\geq', lambda m: \" greater than or equal to \"),\n",
    "        (r'\\\\sin', lambda m: \"sine of \"),\n",
    "        (r'\\\\cos', lambda m: \"cosine of \"),\n",
    "        (r'\\\\tan', lambda m: \"tangent of \"),\n",
    "        (r'\\\\log', lambda m: \"logarithm of \"),\n",
    "        (r'\\\\ln', lambda m: \"natural logarithm of \"),\n",
    "        (r'\\\\pi', lambda m: \"pi\"),\n",
    "        (r'\\\\theta', lambda m: \"theta\"),\n",
    "    ]\n",
    "    \n",
    "    # 입력된 LaTeX 수식이 패턴과 일치하는지 확인\n",
    "    for pattern, repl in patterns:\n",
    "        latex_str = re.sub(pattern, repl, latex_str)\n",
    "    \n",
    "    return latex_str\n",
    "\n",
    "# 사용자로부터 LaTeX 수식 입력받기\n",
    "latex_str = input(\"Enter a LaTeX string: \")\n",
    "\n",
    "try:\n",
    "    # 변환된 영어 발음 출력\n",
    "    english_str = latex_to_english(latex_str)\n",
    "    print(\"English pronunciation:\", english_str)\n",
    "except Exception as e:\n",
    "    print(\"Error processing LaTeX string:\", str(e))\n",
    "    print(\"Original LaTeX string:\", latex_str)\n"
   ]
  },
  {
   "cell_type": "code",
   "execution_count": null,
   "metadata": {},
   "outputs": [],
   "source": []
  }
 ],
 "metadata": {
  "kernelspec": {
   "display_name": "Python 3",
   "language": "python",
   "name": "python3"
  },
  "language_info": {
   "codemirror_mode": {
    "name": "ipython",
    "version": 3
   },
   "file_extension": ".py",
   "mimetype": "text/x-python",
   "name": "python",
   "nbconvert_exporter": "python",
   "pygments_lexer": "ipython3",
   "version": "3.12.3"
  }
 },
 "nbformat": 4,
 "nbformat_minor": 2
}
