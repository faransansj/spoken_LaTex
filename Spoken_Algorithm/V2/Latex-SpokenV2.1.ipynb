{
 "cells": [
  {
   "cell_type": "code",
   "execution_count": 5,
   "metadata": {},
   "outputs": [
    {
     "name": "stdout",
     "output_type": "stream",
     "text": [
      "English pronunciation: integral from a to b x over y  equals  a  plus  b\n"
     ]
    }
   ],
   "source": [
    "import re\n",
    "import json\n",
    "\n",
    "def load_patterns(filename):\n",
    "    with open(filename, 'r', encoding='utf-8') as file:\n",
    "        return json.load(file)\n",
    "\n",
    "def apply_patterns(latex_str, patterns):\n",
    "    for pattern in patterns:\n",
    "        regex_pattern = pattern['pattern']\n",
    "        replacement = pattern['replacement']\n",
    "        latex_str = re.sub(regex_pattern, lambda m: eval(f'f\"{replacement}\"'), latex_str)\n",
    "    return latex_str\n",
    "\n",
    "def latex_to_english(latex_str, patterns):\n",
    "    latex_str = latex_str.replace(r'\\frac', 'frac')\n",
    "    return apply_patterns(latex_str, patterns)\n",
    "\n",
    "# JSON 파일에서 패턴 로드\n",
    "patterns = load_patterns('patterns.json')\n",
    "\n",
    "# 사용자로부터 LaTeX 수식 입력받기\n",
    "latex_str = input(\"Enter a LaTeX string: \")\n",
    "\n",
    "try:\n",
    "    # 변환된 영어 발음 출력\n",
    "    english_str = latex_to_english(latex_str, patterns)\n",
    "    print(\"English pronunciation:\", english_str)\n",
    "except Exception as e:\n",
    "    print(\"Error processing LaTeX string:\", str(e))\n",
    "    print(\"Original LaTeX string:\", latex_str)\n"
   ]
  },
  {
   "cell_type": "code",
   "execution_count": null,
   "metadata": {},
   "outputs": [],
   "source": []
  }
 ],
 "metadata": {
  "kernelspec": {
   "display_name": "Python 3",
   "language": "python",
   "name": "python3"
  },
  "language_info": {
   "codemirror_mode": {
    "name": "ipython",
    "version": 3
   },
   "file_extension": ".py",
   "mimetype": "text/x-python",
   "name": "python",
   "nbconvert_exporter": "python",
   "pygments_lexer": "ipython3",
   "version": "3.11.1"
  }
 },
 "nbformat": 4,
 "nbformat_minor": 2
}
